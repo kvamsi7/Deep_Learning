{
  "nbformat": 4,
  "nbformat_minor": 0,
  "metadata": {
    "colab": {
      "name": "scratchpad",
      "provenance": [],
      "include_colab_link": true
    },
    "kernelspec": {
      "display_name": "Python 3",
      "name": "python3"
    }
  },
  "cells": [
    {
      "cell_type": "markdown",
      "metadata": {
        "id": "view-in-github",
        "colab_type": "text"
      },
      "source": [
        "<a href=\"https://colab.research.google.com/github/kvamsi7/Deep_Learning/blob/master/MNIST_using_pure-tensorflow.ipynb\" target=\"_parent\"><img src=\"https://colab.research.google.com/assets/colab-badge.svg\" alt=\"Open In Colab\"/></a>"
      ]
    },
    {
      "cell_type": "code",
      "metadata": {
        "id": "lIYdn1woOS1n",
        "colab": {
          "base_uri": "https://localhost:8080/"
        },
        "outputId": "cea63fd5-5bdc-44d8-aeaa-56589ded64e6"
      },
      "source": [
        "import tensorflow.compat.v1 as tf\n",
        "tf.disable_v2_behavior()\n",
        "\n",
        "## \n",
        "import numpy as np\n",
        "import matplotlib.pyplot as plt"
      ],
      "execution_count": 1,
      "outputs": [
        {
          "output_type": "stream",
          "text": [
            "WARNING:tensorflow:From /usr/local/lib/python3.7/dist-packages/tensorflow/python/compat/v2_compat.py:101: disable_resource_variables (from tensorflow.python.ops.variable_scope) is deprecated and will be removed in a future version.\n",
            "Instructions for updating:\n",
            "non-resource variables are not supported in the long term\n"
          ],
          "name": "stdout"
        }
      ]
    },
    {
      "cell_type": "code",
      "metadata": {
        "id": "Xo0lr5C9b7fM",
        "colab": {
          "base_uri": "https://localhost:8080/"
        },
        "outputId": "2391e07f-0b4e-4a3e-ca61-75c4a11351f2"
      },
      "source": [
        "a = tf.constant(2)\n",
        "sess = tf.Session()\n",
        "sess.run(a)"
      ],
      "execution_count": null,
      "outputs": [
        {
          "output_type": "execute_result",
          "data": {
            "text/plain": [
              "2"
            ]
          },
          "metadata": {},
          "execution_count": 5
        }
      ]
    },
    {
      "cell_type": "code",
      "metadata": {
        "id": "Np53zJFMgDF0",
        "colab": {
          "base_uri": "https://localhost:8080/"
        },
        "outputId": "07723bf1-be6c-4e59-bc12-9c01b219ce37"
      },
      "source": [
        "a1 = tf.constant([[2,3],[4,5]])\n",
        "a2 = tf.constant([[4,5],[2,3]])\n",
        "sess.run(tf.matmul(a1,a2))\n"
      ],
      "execution_count": null,
      "outputs": [
        {
          "output_type": "execute_result",
          "data": {
            "text/plain": [
              "array([[14, 19],\n",
              "       [26, 35]], dtype=int32)"
            ]
          },
          "metadata": {},
          "execution_count": 6
        }
      ]
    },
    {
      "cell_type": "code",
      "metadata": {
        "id": "nX_DAhhhga5U",
        "colab": {
          "base_uri": "https://localhost:8080/"
        },
        "outputId": "dc5c7c48-18a9-44a5-f5f2-418f75870d6a"
      },
      "source": [
        "# variables\n",
        "\n",
        "var1 = tf.Variable(2)\n",
        "var2 = tf.Variable(3)\n",
        "var_sum = var1 + var2\n",
        "sess.run(tf.global_variables_initializer())\n",
        "sess.run(var_sum)"
      ],
      "execution_count": null,
      "outputs": [
        {
          "output_type": "execute_result",
          "data": {
            "text/plain": [
              "5"
            ]
          },
          "metadata": {},
          "execution_count": 9
        }
      ]
    },
    {
      "cell_type": "code",
      "metadata": {
        "id": "qb0-v6gFpX8j",
        "colab": {
          "base_uri": "https://localhost:8080/"
        },
        "outputId": "50e15d9a-e546-44f4-e976-9d84215585e7"
      },
      "source": [
        "# var2.assign(5) # won't work\n",
        "sess.run(var2.assign(5))\n",
        "sess.run(var_sum)"
      ],
      "execution_count": null,
      "outputs": [
        {
          "output_type": "execute_result",
          "data": {
            "text/plain": [
              "7"
            ]
          },
          "metadata": {},
          "execution_count": 11
        }
      ]
    },
    {
      "cell_type": "code",
      "metadata": {
        "id": "bPDs2NxGpxWH",
        "colab": {
          "base_uri": "https://localhost:8080/"
        },
        "outputId": "aaa2026f-9832-4bd6-ac8c-7e0ce9eac279"
      },
      "source": [
        "# place holders\n",
        "\n",
        "var1 = tf.placeholder(tf.int32)\n",
        "var2 = tf.Variable(10) * var1\n",
        "sess.run(tf.global_variables_initializer())\n",
        "sess.run(var2,feed_dict={var1:10})"
      ],
      "execution_count": null,
      "outputs": [
        {
          "output_type": "execute_result",
          "data": {
            "text/plain": [
              "100"
            ]
          },
          "metadata": {},
          "execution_count": 12
        }
      ]
    },
    {
      "cell_type": "code",
      "metadata": {
        "id": "bUCaOjpMqYZU",
        "colab": {
          "base_uri": "https://localhost:8080/"
        },
        "outputId": "632bfc55-3ded-452b-d7bd-bd12591dcd4e"
      },
      "source": [
        "# place holders\n",
        "\n",
        "var1 = tf.placeholder(tf.int32,shape=(1,2))\n",
        "var2 = tf.Variable(10) * var1\n",
        "sess.run(tf.global_variables_initializer())\n",
        "sess.run(var2,feed_dict={var1:[[1,2]]})"
      ],
      "execution_count": null,
      "outputs": [
        {
          "output_type": "execute_result",
          "data": {
            "text/plain": [
              "array([[10, 20]], dtype=int32)"
            ]
          },
          "metadata": {},
          "execution_count": 14
        }
      ]
    },
    {
      "cell_type": "code",
      "metadata": {
        "id": "nIYkmOrOqfWP"
      },
      "source": [
        ""
      ],
      "execution_count": null,
      "outputs": []
    },
    {
      "cell_type": "code",
      "metadata": {
        "id": "1k7WAW3hq4Ra"
      },
      "source": [
        "# Project MNIST"
      ],
      "execution_count": 2,
      "outputs": []
    },
    {
      "cell_type": "code",
      "metadata": {
        "id": "I9LJkwK4q7uI"
      },
      "source": [
        "from sklearn.datasets import load_digits"
      ],
      "execution_count": 3,
      "outputs": []
    },
    {
      "cell_type": "code",
      "metadata": {
        "id": "IzW85W3qFeWi",
        "outputId": "485547cb-bcd6-4a65-e2b3-d01fcf230e42",
        "colab": {
          "base_uri": "https://localhost:8080/"
        }
      },
      "source": [
        "(x_train, y_train), (x_test, y_test) = tf.keras.datasets.mnist.load_data(path=\"mnist.npz\")"
      ],
      "execution_count": 4,
      "outputs": [
        {
          "output_type": "stream",
          "text": [
            "Downloading data from https://storage.googleapis.com/tensorflow/tf-keras-datasets/mnist.npz\n",
            "11493376/11490434 [==============================] - 0s 0us/step\n",
            "11501568/11490434 [==============================] - 0s 0us/step\n"
          ],
          "name": "stdout"
        }
      ]
    },
    {
      "cell_type": "code",
      "metadata": {
        "id": "ODM58Kc8Frx1",
        "colab": {
          "base_uri": "https://localhost:8080/"
        },
        "outputId": "ff5e4f2d-0928-43c4-c1e3-232ea3ac5fea"
      },
      "source": [
        "x_train.shape"
      ],
      "execution_count": 5,
      "outputs": [
        {
          "output_type": "execute_result",
          "data": {
            "text/plain": [
              "(60000, 28, 28)"
            ]
          },
          "metadata": {},
          "execution_count": 5
        }
      ]
    },
    {
      "cell_type": "code",
      "metadata": {
        "id": "1ICRuSZtxhDs"
      },
      "source": [
        "# plotting some images "
      ],
      "execution_count": 6,
      "outputs": []
    },
    {
      "cell_type": "code",
      "metadata": {
        "id": "x3WP2JUvt_Yn",
        "colab": {
          "base_uri": "https://localhost:8080/",
          "height": 536
        },
        "outputId": "fbe10bcd-0715-459f-98f5-d829c4907348"
      },
      "source": [
        "fig = plt.figure(figsize=(15,8))\n",
        "for i in range(50):\n",
        "  image = x_train[i]\n",
        "  image_label = y_test[i]\n",
        "  ax = fig.add_subplot(5,10,i+1)\n",
        "  ax.imshow(image)\n",
        "  ax.axis('off')\n",
        "  ax.set_title(image_label)\n",
        "plt.tight_layout()\n",
        "plt.show()"
      ],
      "execution_count": 7,
      "outputs": [
        {
          "output_type": "display_data",
          "data": {
            "image/png": "[encoded data removed]",
            "text/plain": [
              "<Figure size 1080x576 with 50 Axes>"
            ]
          },
          "metadata": {
            "needs_background": "light"
          }
        }
      ]
    },
    {
      "cell_type": "code",
      "metadata": {
        "id": "AaMRDqIW2raN"
      },
      "source": [
        "# initializing the weights\n",
        "\n",
        "n_input = 784\n",
        "n_hidden_1 = 256\n",
        "n_hidden_2 = 256\n",
        "n_classes = 10\n",
        "\n",
        "weights = {\n",
        "    'h1' : tf.Variable(tf.random_normal([n_input,n_hidden_1])),\n",
        "    'h2' : tf.Variable(tf.random_normal([n_hidden_1,n_hidden_2])),\n",
        "    'out' : tf.Variable(tf.random_normal([n_hidden_2,n_classes])),\n",
        "}\n",
        "\n",
        "biases = {\n",
        "    'h1' : tf.Variable(tf.random_normal([n_hidden_1])),\n",
        "    'h2' : tf.Variable(tf.random_normal([n_hidden_2])),\n",
        "    'out' : tf.Variable(tf.random_normal([n_classes])),\n",
        "}"
      ],
      "execution_count": 8,
      "outputs": []
    },
    {
      "cell_type": "code",
      "metadata": {
        "id": "cr-F-zK6HlyF"
      },
      "source": [
        "# forward propagation\n",
        "\n",
        "def forward_propagation(x,weights,biases):\n",
        "  # layer1\n",
        "  in_layer1 = tf.add(tf.matmul(x,weights['h1']),biases['h1'])\n",
        "  out_layer1 = tf.nn.relu(in_layer1)\n",
        "\n",
        "  # layer2\n",
        "  in_layer2 = tf.add(tf.matmul(out_layer1,weights['h2']),biases['h2'])\n",
        "  out_layer2 = tf.nn.relu(in_layer2)\n",
        "\n",
        "  # output layer\n",
        "  output = tf.add(tf.matmul(out_layer2,weights['out']),biases['out'])\n",
        "  \n",
        "  return output"
      ],
      "execution_count": 9,
      "outputs": []
    },
    {
      "cell_type": "code",
      "metadata": {
        "id": "D1-yhXDzKVMz",
        "colab": {
          "base_uri": "https://localhost:8080/"
        },
        "outputId": "c4962001-991e-4446-d482-6dd0be6bcdf5"
      },
      "source": [
        "print(x_train.shape)\n",
        "x_train.reshape(-1,784).shape"
      ],
      "execution_count": 10,
      "outputs": [
        {
          "output_type": "stream",
          "text": [
            "(60000, 28, 28)\n"
          ],
          "name": "stdout"
        },
        {
          "output_type": "execute_result",
          "data": {
            "text/plain": [
              "(60000, 784)"
            ]
          },
          "metadata": {},
          "execution_count": 10
        }
      ]
    },
    {
      "cell_type": "code",
      "metadata": {
        "id": "RZG7zTOvO-nI"
      },
      "source": [
        "from sklearn.preprocessing import OneHotEncoder\n",
        "one_hot_encoder = OneHotEncoder(sparse=False)\n",
        "\n",
        "one_hot_encoder.fit(y_train.reshape(-1,1))\n",
        "\n",
        "encoded_train_labels = one_hot_encoder.transform(y_train.reshape(-1,1))\n",
        "encoded_test_labels =  one_hot_encoder.transform(y_test.reshape(-1,1))"
      ],
      "execution_count": 33,
      "outputs": []
    },
    {
      "cell_type": "code",
      "metadata": {
        "id": "_JaYkpvdMi0s"
      },
      "source": [
        "x = tf.placeholder('float',shape=[None,n_input])\n",
        "y = tf.placeholder(tf.int32,shape=[None,n_classes])\n",
        "\n",
        "pred = forward_propagation(x,weights,biases)"
      ],
      "execution_count": 49,
      "outputs": []
    },
    {
      "cell_type": "code",
      "metadata": {
        "id": "7Ns1nrsLXuyK"
      },
      "source": [
        "# Cost \n",
        "\n",
        "cost = tf.reduce_mean(tf.nn.softmax_cross_entropy_with_logits(logits=pred,labels = y))"
      ],
      "execution_count": 50,
      "outputs": []
    },
    {
      "cell_type": "code",
      "metadata": {
        "id": "ghDXk1QtYYtr"
      },
      "source": [
        "# optimizer \n",
        "\n",
        "optimizer = tf.train.AdamOptimizer(learning_rate=0.01)\n",
        "optimize = optimizer.minimize(cost)"
      ],
      "execution_count": 51,
      "outputs": []
    },
    {
      "cell_type": "code",
      "metadata": {
        "id": "P_ylnGBdbKnw"
      },
      "source": [
        "# Running the sesssion\n",
        "\n",
        "sess = tf.Session()\n",
        "sess.run(tf.global_variables_initializer())\n"
      ],
      "execution_count": 52,
      "outputs": []
    },
    {
      "cell_type": "code",
      "metadata": {
        "id": "H8jJc2bQb7Bo",
        "outputId": "7958bcc0-d07b-46c9-8523-a399caf0a5bf",
        "colab": {
          "base_uri": "https://localhost:8080/"
        }
      },
      "source": [
        "c,_ = sess.run([cost,optimize],feed_dict={x:x_train.reshape(-1,n_input),y:encoded_train_labels})\n",
        "c"
      ],
      "execution_count": 78,
      "outputs": [
        {
          "output_type": "execute_result",
          "data": {
            "text/plain": [
              "19120.203"
            ]
          },
          "metadata": {},
          "execution_count": 78
        }
      ]
    },
    {
      "cell_type": "code",
      "metadata": {
        "id": "gd3H_3GFavsR"
      },
      "source": [
        "# predictions  = tf.argmax(pred,axis = 1)\n",
        "# true_labels = tf.argmax(y,axis = 1)\n",
        "# correct_predictions = tf.equal(predictions,true_labels)"
      ],
      "execution_count": 61,
      "outputs": []
    },
    {
      "cell_type": "code",
      "metadata": {
        "id": "Cmb_pjPmOXyq"
      },
      "source": [
        "# # for train\n",
        "# predicted_eval, labels,pred  = sess.run([predictions,true_labels,correct_predictions],feed_dict={x:x_train.reshape(-1,n_input),y:encoded_train})\n",
        "# predicted_eval, labels,pred"
      ],
      "execution_count": 23,
      "outputs": []
    },
    {
      "cell_type": "code",
      "metadata": {
        "id": "dodCJXUXPoBA",
        "colab": {
          "base_uri": "https://localhost:8080/"
        },
        "outputId": "ec415c5d-db46-455e-ff74-6fce55711a06"
      },
      "source": [
        "# # for test \n",
        "# predicted_eval, labels,pred  = sess.run([predictions,true_labels,correct_predictions],feed_dict={x:x_test.reshape(-1,n_input),y:encoded_test})\n",
        "# predicted_eval, labels,pred"
      ],
      "execution_count": 17,
      "outputs": [
        {
          "output_type": "execute_result",
          "data": {
            "text/plain": [
              "(array([3, 5, 3, ..., 6, 3, 5]),\n",
              " array([7, 2, 1, ..., 4, 5, 6]),\n",
              " array([False, False, False, ..., False, False, False]))"
            ]
          },
          "metadata": {},
          "execution_count": 17
        }
      ]
    },
    {
      "cell_type": "code",
      "metadata": {
        "id": "Po04qdhCQQy0"
      },
      "source": [
        ""
      ],
      "execution_count": null,
      "outputs": []
    }
  ]
}